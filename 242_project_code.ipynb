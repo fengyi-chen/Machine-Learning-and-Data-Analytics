{
 "cells": [
  {
   "cell_type": "code",
   "execution_count": null,
   "metadata": {},
   "outputs": [],
   "source": [
    "import pandas as pd\n",
    "import numpy as np\n",
    "import statsmodels.api as sm\n",
    "import matplotlib.pyplot as plt\n",
    "from scipy.sparse.linalg import cg\n",
    "from sklearn.dummy import DummyClassifier\n",
    "from sklearn.ensemble import RandomForestClassifier, RandomForestRegressor\n",
    "from sklearn.model_selection import train_test_split\n",
    "from sklearn.linear_model import LogisticRegression\n",
    "from sklearn.metrics import accuracy_score, f1_score, confusion_matrix, roc_curve, roc_auc_score, classification_report"
   ]
  },
  {
   "cell_type": "markdown",
   "metadata": {},
   "source": [
    "# Data Preprocessing"
   ]
  },
  {
   "cell_type": "code",
   "execution_count": null,
   "metadata": {},
   "outputs": [],
   "source": [
    "raw_sample_df1 = pd.read_csv(\"/Users/huangfuzixuan/Downloads/raw_sample.csv\")\n",
    "raw_sample_df1['user'] = raw_sample_df1['user'].astype(int)\n",
    "raw_sample_df1.rename(columns={'user': 'userid'}, inplace=True)\n",
    "\n",
    "raw_sample_df1['time_stamp'] = raw_sample_df1['time_stamp'].astype(int)\n",
    "raw_sample_df1.rename(columns={'time_stamp': 'timestamp'}, inplace=True)\n",
    "\n",
    "raw_sample_df1['adgroup_id'] = raw_sample_df1['adgroup_id'].astype(int)\n",
    "raw_sample_df1.rename(columns={'adgroup_id': 'adgroupId'}, inplace=True)\n",
    "\n",
    "raw_sample_df1['pid'] = raw_sample_df1['pid'].astype(str)\n",
    "\n",
    "raw_sample_df1['nonclk'] = raw_sample_df1['nonclk'].astype(int)\n",
    "raw_sample_df1['clk'] = raw_sample_df1['clk'].astype(int)\n",
    "print(raw_sample_df1.dtypes)\n",
    "print(raw_sample_df1.head())  "
   ]
  },
  {
   "cell_type": "code",
   "execution_count": null,
   "metadata": {},
   "outputs": [],
   "source": [
    "print(\"Total click through rate:\",sum(raw_sample_df1['clk'])/len(raw_sample_df1))"
   ]
  },
  {
   "cell_type": "code",
   "execution_count": null,
   "metadata": {},
   "outputs": [],
   "source": [
    "raw_sample_df1 = pd.get_dummies(raw_sample_df1, columns=['pid'])\n",
    "print(raw_sample_df1.head())"
   ]
  },
  {
   "cell_type": "code",
   "execution_count": null,
   "metadata": {},
   "outputs": [],
   "source": [
    "_ad_feature_df = pd.read_csv(\"/Users/huangfuzixuan/Downloads/ad_feature.csv\", header=0)\n",
    "_ad_feature_df['brand'].replace(np.nan ,'-1', inplace=True)\n",
    "_ad_feature_df['adgroup_id'] = _ad_feature_df['adgroup_id'].astype(int)\n",
    "_ad_feature_df.rename(columns={'adgroup_id': 'adgroupId'}, inplace=True)\n",
    "\n",
    "_ad_feature_df['cate_id'] = _ad_feature_df['cate_id'].astype(int)\n",
    "_ad_feature_df.rename(columns={'cate_id': 'cateId'}, inplace=True)\n",
    "\n",
    "_ad_feature_df['campaign_id'] = _ad_feature_df['campaign_id'].astype(int)\n",
    "_ad_feature_df.rename(columns={'campaign_id': 'campaignId'}, inplace=True)\n",
    "\n",
    "_ad_feature_df['customer'] = _ad_feature_df['customer'].astype(int)\n",
    "_ad_feature_df.rename(columns={'customer': 'customerId'}, inplace=True)\n",
    "\n",
    "_ad_feature_df['brand'] = _ad_feature_df['brand'].astype(int)\n",
    "_ad_feature_df.rename(columns={'brand': 'brandId'}, inplace=True)\n",
    "_ad_feature_df['price'] = _ad_feature_df['price'].astype(float)\n",
    "print(_ad_feature_df.dtypes)\n",
    "print(_ad_feature_df.head())"
   ]
  },
  {
   "cell_type": "code",
   "execution_count": null,
   "metadata": {},
   "outputs": [],
   "source": [
    "user_profile_df = pd.read_csv(\"/Users/huangfuzixuan/Downloads/user_profile.csv\")\n",
    "\n",
    "user_profile_df = user_profile_df.drop(columns=['pvalue_level', 'new_user_class_level '])\n",
    "print(user_profile_df.info())\n",
    "print(user_profile_df.head())\n",
    "dtype_casts = {\n",
    "    'userid': 'int',\n",
    "    'final_gender_code': 'int',\n",
    "    'age_level': 'int',\n",
    "    #'pvalue_level': 'int',\n",
    "    'shopping_level': 'int',\n",
    "    'occupation': 'int',\n",
    "    #'new_user_class_level': 'int'\n",
    "}\n",
    "user_profile_df = user_profile_df.astype(dtype_casts)\n",
    "print(user_profile_df.info())\n",
    "print(user_profile_df.head())"
   ]
  },
  {
   "cell_type": "code",
   "execution_count": null,
   "metadata": {},
   "outputs": [],
   "source": [
    "user_profile_df = pd.read_csv(\"/Users/huangfuzixuan/Downloads/user_profile.csv\")\n",
    "user_profile_df = user_profile_df.dropna()\n",
    "print(user_profile_df.info())\n",
    "print(user_profile_df.head())"
   ]
  },
  {
   "cell_type": "code",
   "execution_count": null,
   "metadata": {},
   "outputs": [],
   "source": [
    "merged_df = pd.merge(raw_sample_df1, _ad_feature_df, on='adgroupId', how='outer')\n",
    "datasets = pd.merge(merged_df,user_profile_df , on='userid', how='outer')\n",
    "print(datasets.info())\n",
    "print(datasets.shape[0])"
   ]
  },
  {
   "cell_type": "code",
   "execution_count": null,
   "metadata": {},
   "outputs": [],
   "source": [
    "datasets_cleaned = datasets.dropna()\n",
    "datasets_cleaned['pid_430539_1007'] = datasets_cleaned['pid_430539_1007'].astype('int')\n",
    "datasets_cleaned"
   ]
  },
  {
   "cell_type": "code",
   "execution_count": null,
   "metadata": {},
   "outputs": [],
   "source": [
    "#ctr calculation\n",
    "grouped = datasets_cleaned.groupby('adgroupId')['clk'].agg(['sum', 'count'])\n",
    "grouped['ctr'] = grouped['sum'] / grouped['count']\n",
    "datasets_cleaned['ctr'] = datasets_cleaned['adgroupId'].map(grouped['ctr'])\n",
    "\n",
    "datasets_cleaned"
   ]
  },
  {
   "cell_type": "markdown",
   "metadata": {},
   "source": [
    "## Feature Engineering"
   ]
  },
  {
   "cell_type": "code",
   "execution_count": null,
   "metadata": {},
   "outputs": [],
   "source": [
    "datasets_cleaned['timestamp'] = pd.to_datetime(datasets_cleaned['timestamp'], unit='s')\n",
    "print(datasets_cleaned)"
   ]
  },
  {
   "cell_type": "code",
   "execution_count": null,
   "metadata": {},
   "outputs": [],
   "source": [
    "import numpy as np\n",
    "from datetime import datetime\n",
    "import pickle\n",
    "def get_time_of_day(hour):\n",
    "    if hour <= 12:\n",
    "        return 1\n",
    "    elif hour <= 18:\n",
    "        return 2\n",
    "    else:\n",
    "        return 3\n",
    "datasets_cleaned['time_weekday'] = datasets_cleaned.timestamp.map(lambda x: 0 if x.isoweekday() >= 6 else 1)\n",
    "datasets_cleaned['time_of_day'] = datasets_cleaned.timestamp.map(lambda x: get_time_of_day(x.hour)) \n",
    "datasets_cleaned"
   ]
  },
  {
   "cell_type": "code",
   "execution_count": null,
   "metadata": {},
   "outputs": [],
   "source": [
    "from sklearn.preprocessing import OneHotEncoder\n",
    "\n",
    "\n",
    "lr_onehot = OneHotEncoder()\n",
    "test_trans = lr_onehot.fit_transform(test_df_lr[['time_weekday', 'time_of_day']])\n",
    "test_trans = pd.DataFrame(test_trans.toarray())\n",
    "lr_onehot = OneHotEncoder()\n",
    "test_trans = lr_onehot.transform(test_df_lr[[ 'time_weekday', 'time_of_day']].values)\n",
    "test_trans = pd.DataFrame(test_trans.toarray())\n",
    "datasets_cleaned = pd.concat([test_df_lr.drop(['time_weekday', 'time_of_day'], axis = 1), test_trans], axis = 1)\n"
   ]
  },
  {
   "cell_type": "code",
   "execution_count": null,
   "metadata": {},
   "outputs": [],
   "source": [
    "#one hot encoding\n",
    "import pandas as pd\n",
    "from sklearn.preprocessing import OneHotEncoder\n",
    "\n",
    "\n",
    "X_ctr = datasets_cleaned[['cateId', 'cms_segid', 'cms_group_id', 'final_gender_code', 'pid_430539_1007']]\n",
    "X_ctr_encoded = pd.get_dummies(X_ctr)\n",
    "datasets_cleaned_encoded = pd.concat(['cateId', 'cms_segid', 'cms_group_id', 'final_gender_code', 'pid_430539_1007'], axis=1), X_ctr_encoded], axis=1)\n",
    "print(datasets_cleaned_encoded.head())\n",
    "datasets_cleaned = datasets_cleaned_encoded\n"
   ]
  },
  {
   "cell_type": "code",
   "execution_count": null,
   "metadata": {},
   "outputs": [],
   "source": [
    "import pandas as pd\n",
    "import matplotlib.pyplot as plt\n",
    "\n",
    "datasets_cleaned['date'] = pd.to_datetime(datasets_cleaned['timestamp']).dt.date\n",
    "\n",
    "daily_clicks_count = datasets_cleaned.groupby('date')['clk'].sum()\n",
    "for date, clicks in daily_clicks_count.items():\n",
    "    weekday = pd.to_datetime(date).strftime('%A') \n",
    "    print(f\"{date}: {clicks} clicks ({weekday})\")\n",
    "\n",
    "\n",
    "daily_clicks_df = pd.DataFrame({'date': daily_clicks_count.index, 'clicks': daily_clicks_count.values})\n",
    "daily_clicks_df = daily_clicks_df.sort_values(by='date')\n",
    "daily_clicks_df = pd.DataFrame({'date': daily_clicks_count.index, 'clicks': daily_clicks_count.values})\n",
    "\n",
    "\n",
    "plt.figure(figsize=(10, 6))\n",
    "plt.plot(daily_clicks_df['date'], daily_clicks_df['clicks'], marker='o')\n",
    "plt.xlabel('Date')\n",
    "plt.ylabel('Number of Clicks')\n",
    "plt.title('Clicks per Day')\n",
    "plt.xticks(rotation=45)  \n",
    "plt.tight_layout()  \n",
    "plt.show()"
   ]
  },
  {
   "cell_type": "code",
   "execution_count": null,
   "metadata": {},
   "outputs": [],
   "source": [
    "import pandas as pd\n",
    "import matplotlib.pyplot as plt\n",
    "\n",
    "import pandas as pd\n",
    "\n",
    "datasets_cleaned['timestamp'] = pd.to_datetime(datasets_cleaned['timestamp'])\n",
    "\n",
    "datasets_cleaned['time_interval'] = (datasets_cleaned['timestamp'].dt.hour // 2) * 2\n",
    "datasets_cleaned['time_interval'] = datasets_cleaned['timestamp'].dt.hour // 2\n",
    "\n",
    "clicks_per_interval = datasets_cleaned.groupby('time_interval')['clk'].sum()\n",
    "plt.figure(figsize=(10, 6))\n",
    "plt.bar(clicks_per_interval.index, clicks_per_interval.values)\n",
    "plt.xlabel('Time Interval')\n",
    "plt.ylabel('Number of Clicks')\n",
    "plt.title('Clicks per Time Interval')\n",
    "plt.xticks(clicks_per_interval.index, ['{}-{}'.format(i*2, (i+1)*2) for i in clicks_per_interval.index])\n",
    "plt.show()"
   ]
  },
  {
   "cell_type": "code",
   "execution_count": null,
   "metadata": {},
   "outputs": [],
   "source": [
    "\n",
    "grouped = datasets_cleaned.groupby('cateId')['ctr'].agg(['mean', 'count']).reset_index()  \n",
    "grouped.columns = ['cateId', 'average_ctr', 'count']  \n",
    "top10_cateId_ctr_count = grouped.nlargest(10, 'count')  \n",
    "\n",
    "print(top10_cateId_ctr_count)"
   ]
  },
  {
   "cell_type": "markdown",
   "metadata": {},
   "source": [
    "# Random Forest"
   ]
  },
  {
   "cell_type": "code",
   "execution_count": null,
   "metadata": {},
   "outputs": [],
   "source": [
    "features = ['cms_segid', 'cms_group_id', 'final_gender_code', 'age_level', 'shopping_level', 'occupation', 'pid_430539_1007', 'pvalue_level', 'price']\n",
    "X_train = train_set[features]\n",
    "y_train = train_set['clk']\n",
    "X_test = test_set[features]\n",
    "y_test = test_set['clk']\n",
    "rf = RandomForestRegressor(n_estimators=100, random_state=42)\n",
    "rf.fit(X_train, y_train)\n",
    "y_pred_rf = rf.predict(X_test)"
   ]
  },
  {
   "cell_type": "code",
   "execution_count": null,
   "metadata": {},
   "outputs": [],
   "source": [
    "\n",
    "from sklearn.metrics import mean_squared_error, r2_score\n",
    "\n",
    "mse = mean_squared_error(y_test, y_pred_rf)\n",
    "r2 = r2_score(y_test, y_pred_rf)\n",
    "\n",
    "print(\"Mean Squared Error:\", mse)\n",
    "print(\"R-squared:\", r2)"
   ]
  },
  {
   "cell_type": "code",
   "execution_count": null,
   "metadata": {},
   "outputs": [],
   "source": [
    "#cross validation\n",
    "import time\n",
    "from sklearn.ensemble import RandomForestClassifier\n",
    "from sklearn.model_selection import GridSearchCV\n",
    "import numpy as np\n",
    "\n",
    "\n",
    "grid_values = {'max_features': np.linspace(1,20,20, dtype='int32'),\n",
    "               'min_samples_leaf': [5],\n",
    "               'n_estimators': [500],\n",
    "               'random_state': [88]} \n",
    "\n",
    "tic = time.time()\n",
    "\n",
    "rf = RandomForestRegressor() \n",
    "rf_cv = GridSearchCV(rf, param_grid=grid_values, cv=5)\n",
    "rf_cv.fit(X_train, y_train)\n",
    "\n",
    "toc = time.time()"
   ]
  },
  {
   "cell_type": "markdown",
   "metadata": {},
   "source": [
    "# Linear Regression"
   ]
  },
  {
   "cell_type": "code",
   "execution_count": null,
   "metadata": {},
   "outputs": [],
   "source": [
    "X_ctr= datasets_cleaned[['cateId', 'price', 'cms_segid', 'cms_group_id', 'final_gender_code', 'age_level', 'shopping_level', 'pid_430539_1007', 'pvalue_level']]\n",
    "y_ctr = datasets_cleaned['ctr']\n",
    "\n",
    "#y_test = datasets['clk']\n",
    "#X_test = dtm_test\n",
    "\n",
    "X_train_ctr, X_test_ctr, y_train_ctr, y_test_ctr = train_test_split(X_ctr, y_ctr, test_size=0.3, random_state=42)\n",
    "\n",
    "X_train_ctr = sm.add_constant(X_train_ctr)\n",
    "\n",
    "lr_model = sm.OLS(y_train_ctr, X_train_ctr).fit() \n",
    "print(lr_model.summary())\n",
    "\n",
    "y_pred_ctr = lr_model.predict(X_test_ctr)"
   ]
  }
 ],
 "metadata": {
  "kernelspec": {
   "display_name": "base",
   "language": "python",
   "name": "python3"
  },
  "language_info": {
   "codemirror_mode": {
    "name": "ipython",
    "version": 3
   },
   "file_extension": ".py",
   "mimetype": "text/x-python",
   "name": "python",
   "nbconvert_exporter": "python",
   "pygments_lexer": "ipython3",
   "version": "3.11.3"
  },
  "orig_nbformat": 4
 },
 "nbformat": 4,
 "nbformat_minor": 2
}
